{
  "nbformat": 4,
  "nbformat_minor": 0,
  "metadata": {
    "colab": {
      "provenance": []
    },
    "kernelspec": {
      "name": "python3",
      "display_name": "Python 3"
    },
    "language_info": {
      "name": "python"
    }
  },
  "cells": [
    {
      "cell_type": "markdown",
      "source": [
        "##Introduction:\n",
        "Voter turnout is a key metric in measuring the effectiveness of a democratic system. It is a measure of the level of citizen participation in the democratic process. In Nigeria, the 2023 general election is fast approaching, and it is essential to analyze previous elections' voter turnout data to understand the factors that influence voter participation. In this article, we will use the data obtained from the International Institute for Democracy and Electoral Assistance (IDEA) to analyze voter turnout in Nigeria from 1979 to 2019. We will use Python to visualize the data and draw insights that can help stakeholders plan for the 2023 general election.\n",
        "\n",
        "##Data Source:\n",
        "The data used in this analysis was obtained from the International Institute for Democracy and Electoral Assistance (IDEA) website. The dataset contains information on voter turnout, total votes, registration, Voting Age Population (VAP) Turnout, Voting Age Population, Population, Invalid votes, and compulsory voting from eight consecutive elections held in Nigeria from 1979 to 2019.\n",
        "\n",
        "##Data Preparation:\n",
        "We will begin by importing the dataset using Python's Pandas library. We will then clean the data by removing the percentage sign (%) and the comma (,) from the 'Voter Turnout' and 'Total vote' columns, respectively. We will also remove the rows with missing values and convert the 'Year' column to a datetime object."
      ],
      "metadata": {
        "id": "t6D2waDpu2-L"
      }
    },
    {
      "cell_type": "code",
      "source": [
        "# Importing necessary libraries\n",
        "import pandas as pd\n",
        "import matplotlib.pyplot as plt\n",
        "import io"
      ],
      "metadata": {
        "id": "BfyzIPUvyumm"
      },
      "execution_count": null,
      "outputs": []
    },
    {
      "cell_type": "code",
      "source": [
        "# Upload CSV to Google Colab\n",
        "from google.colab import files\n",
        "uploaded = files.upload()"
      ],
      "metadata": {
        "colab": {
          "base_uri": "https://localhost:8080/",
          "height": 74
        },
        "id": "HGn7scwgzVm1",
        "outputId": "c756e043-29d7-4797-dc66-176666c6f3da"
      },
      "execution_count": 7,
      "outputs": [
        {
          "output_type": "display_data",
          "data": {
            "text/plain": [
              "<IPython.core.display.HTML object>"
            ],
            "text/html": [
              "\n",
              "     <input type=\"file\" id=\"files-c00460cd-05a1-4dd4-b0fe-75ebceb06938\" name=\"files[]\" multiple disabled\n",
              "        style=\"border:none\" />\n",
              "     <output id=\"result-c00460cd-05a1-4dd4-b0fe-75ebceb06938\">\n",
              "      Upload widget is only available when the cell has been executed in the\n",
              "      current browser session. Please rerun this cell to enable.\n",
              "      </output>\n",
              "      <script>// Copyright 2017 Google LLC\n",
              "//\n",
              "// Licensed under the Apache License, Version 2.0 (the \"License\");\n",
              "// you may not use this file except in compliance with the License.\n",
              "// You may obtain a copy of the License at\n",
              "//\n",
              "//      http://www.apache.org/licenses/LICENSE-2.0\n",
              "//\n",
              "// Unless required by applicable law or agreed to in writing, software\n",
              "// distributed under the License is distributed on an \"AS IS\" BASIS,\n",
              "// WITHOUT WARRANTIES OR CONDITIONS OF ANY KIND, either express or implied.\n",
              "// See the License for the specific language governing permissions and\n",
              "// limitations under the License.\n",
              "\n",
              "/**\n",
              " * @fileoverview Helpers for google.colab Python module.\n",
              " */\n",
              "(function(scope) {\n",
              "function span(text, styleAttributes = {}) {\n",
              "  const element = document.createElement('span');\n",
              "  element.textContent = text;\n",
              "  for (const key of Object.keys(styleAttributes)) {\n",
              "    element.style[key] = styleAttributes[key];\n",
              "  }\n",
              "  return element;\n",
              "}\n",
              "\n",
              "// Max number of bytes which will be uploaded at a time.\n",
              "const MAX_PAYLOAD_SIZE = 100 * 1024;\n",
              "\n",
              "function _uploadFiles(inputId, outputId) {\n",
              "  const steps = uploadFilesStep(inputId, outputId);\n",
              "  const outputElement = document.getElementById(outputId);\n",
              "  // Cache steps on the outputElement to make it available for the next call\n",
              "  // to uploadFilesContinue from Python.\n",
              "  outputElement.steps = steps;\n",
              "\n",
              "  return _uploadFilesContinue(outputId);\n",
              "}\n",
              "\n",
              "// This is roughly an async generator (not supported in the browser yet),\n",
              "// where there are multiple asynchronous steps and the Python side is going\n",
              "// to poll for completion of each step.\n",
              "// This uses a Promise to block the python side on completion of each step,\n",
              "// then passes the result of the previous step as the input to the next step.\n",
              "function _uploadFilesContinue(outputId) {\n",
              "  const outputElement = document.getElementById(outputId);\n",
              "  const steps = outputElement.steps;\n",
              "\n",
              "  const next = steps.next(outputElement.lastPromiseValue);\n",
              "  return Promise.resolve(next.value.promise).then((value) => {\n",
              "    // Cache the last promise value to make it available to the next\n",
              "    // step of the generator.\n",
              "    outputElement.lastPromiseValue = value;\n",
              "    return next.value.response;\n",
              "  });\n",
              "}\n",
              "\n",
              "/**\n",
              " * Generator function which is called between each async step of the upload\n",
              " * process.\n",
              " * @param {string} inputId Element ID of the input file picker element.\n",
              " * @param {string} outputId Element ID of the output display.\n",
              " * @return {!Iterable<!Object>} Iterable of next steps.\n",
              " */\n",
              "function* uploadFilesStep(inputId, outputId) {\n",
              "  const inputElement = document.getElementById(inputId);\n",
              "  inputElement.disabled = false;\n",
              "\n",
              "  const outputElement = document.getElementById(outputId);\n",
              "  outputElement.innerHTML = '';\n",
              "\n",
              "  const pickedPromise = new Promise((resolve) => {\n",
              "    inputElement.addEventListener('change', (e) => {\n",
              "      resolve(e.target.files);\n",
              "    });\n",
              "  });\n",
              "\n",
              "  const cancel = document.createElement('button');\n",
              "  inputElement.parentElement.appendChild(cancel);\n",
              "  cancel.textContent = 'Cancel upload';\n",
              "  const cancelPromise = new Promise((resolve) => {\n",
              "    cancel.onclick = () => {\n",
              "      resolve(null);\n",
              "    };\n",
              "  });\n",
              "\n",
              "  // Wait for the user to pick the files.\n",
              "  const files = yield {\n",
              "    promise: Promise.race([pickedPromise, cancelPromise]),\n",
              "    response: {\n",
              "      action: 'starting',\n",
              "    }\n",
              "  };\n",
              "\n",
              "  cancel.remove();\n",
              "\n",
              "  // Disable the input element since further picks are not allowed.\n",
              "  inputElement.disabled = true;\n",
              "\n",
              "  if (!files) {\n",
              "    return {\n",
              "      response: {\n",
              "        action: 'complete',\n",
              "      }\n",
              "    };\n",
              "  }\n",
              "\n",
              "  for (const file of files) {\n",
              "    const li = document.createElement('li');\n",
              "    li.append(span(file.name, {fontWeight: 'bold'}));\n",
              "    li.append(span(\n",
              "        `(${file.type || 'n/a'}) - ${file.size} bytes, ` +\n",
              "        `last modified: ${\n",
              "            file.lastModifiedDate ? file.lastModifiedDate.toLocaleDateString() :\n",
              "                                    'n/a'} - `));\n",
              "    const percent = span('0% done');\n",
              "    li.appendChild(percent);\n",
              "\n",
              "    outputElement.appendChild(li);\n",
              "\n",
              "    const fileDataPromise = new Promise((resolve) => {\n",
              "      const reader = new FileReader();\n",
              "      reader.onload = (e) => {\n",
              "        resolve(e.target.result);\n",
              "      };\n",
              "      reader.readAsArrayBuffer(file);\n",
              "    });\n",
              "    // Wait for the data to be ready.\n",
              "    let fileData = yield {\n",
              "      promise: fileDataPromise,\n",
              "      response: {\n",
              "        action: 'continue',\n",
              "      }\n",
              "    };\n",
              "\n",
              "    // Use a chunked sending to avoid message size limits. See b/62115660.\n",
              "    let position = 0;\n",
              "    do {\n",
              "      const length = Math.min(fileData.byteLength - position, MAX_PAYLOAD_SIZE);\n",
              "      const chunk = new Uint8Array(fileData, position, length);\n",
              "      position += length;\n",
              "\n",
              "      const base64 = btoa(String.fromCharCode.apply(null, chunk));\n",
              "      yield {\n",
              "        response: {\n",
              "          action: 'append',\n",
              "          file: file.name,\n",
              "          data: base64,\n",
              "        },\n",
              "      };\n",
              "\n",
              "      let percentDone = fileData.byteLength === 0 ?\n",
              "          100 :\n",
              "          Math.round((position / fileData.byteLength) * 100);\n",
              "      percent.textContent = `${percentDone}% done`;\n",
              "\n",
              "    } while (position < fileData.byteLength);\n",
              "  }\n",
              "\n",
              "  // All done.\n",
              "  yield {\n",
              "    response: {\n",
              "      action: 'complete',\n",
              "    }\n",
              "  };\n",
              "}\n",
              "\n",
              "scope.google = scope.google || {};\n",
              "scope.google.colab = scope.google.colab || {};\n",
              "scope.google.colab._files = {\n",
              "  _uploadFiles,\n",
              "  _uploadFilesContinue,\n",
              "};\n",
              "})(self);\n",
              "</script> "
            ]
          },
          "metadata": {}
        },
        {
          "output_type": "stream",
          "name": "stdout",
          "text": [
            "Saving nigeria_election_data_1979-2019.csv to nigeria_election_data_1979-2019.csv\n"
          ]
        }
      ]
    },
    {
      "cell_type": "code",
      "source": [
        "# Reading the dataset\n",
        "df = pd.read_csv(io.BytesIO(uploaded['nigeria_election_data_1979-2019.csv']))"
      ],
      "metadata": {
        "id": "-boqB4q8ze05"
      },
      "execution_count": 8,
      "outputs": []
    },
    {
      "cell_type": "code",
      "source": [
        "# Data cleaning\n",
        "df['Voter Turnout'] = df['Voter Turnout'].str.replace('%', '').astype(float)\n",
        "df['Total vote'] = df['Total vote'].str.replace(',', '').astype(int)\n",
        "df = df.dropna()\n",
        "df['Year'] = pd.to_datetime(df['Year'], format='%Y')"
      ],
      "metadata": {
        "colab": {
          "base_uri": "https://localhost:8080/"
        },
        "id": "8YsTdBmS19Id",
        "outputId": "97b072db-4890-49dd-8a5a-84733a9cbdfd"
      },
      "execution_count": 9,
      "outputs": [
        {
          "output_type": "stream",
          "name": "stderr",
          "text": [
            "<ipython-input-9-9d1dc4d70da6>:5: SettingWithCopyWarning: \n",
            "A value is trying to be set on a copy of a slice from a DataFrame.\n",
            "Try using .loc[row_indexer,col_indexer] = value instead\n",
            "\n",
            "See the caveats in the documentation: https://pandas.pydata.org/pandas-docs/stable/user_guide/indexing.html#returning-a-view-versus-a-copy\n",
            "  df['Year'] = pd.to_datetime(df['Year'], format='%Y')\n"
          ]
        }
      ]
    },
    {
      "cell_type": "markdown",
      "source": [
        "##Percentage of Votes Distribution:\n",
        "We will begin by plotting the distribution of the percentage of votes received by the leading candidates in each election using a bar plot. We will use the 'Total vote' column to calculate the percentage of votes received by the leading candidates."
      ],
      "metadata": {
        "id": "P-xbkIL-74bF"
      }
    },
    {
      "cell_type": "code",
      "source": [
        "# Calculating percentage of votes\n",
        "df['Percentage of Votes'] = round((df['Total vote'] / df['Total vote'].sum()) * 100, 2)\n",
        "\n",
        "# Plotting percentage of votes\n",
        "fig, ax = plt.subplots(figsize=(10, 5))\n",
        "ax.plot(df['Year'], df['Percentage of Votes'], color='blue')\n",
        "ax.set_xlabel('Year')\n",
        "ax.set_ylabel('Percentage of Votes')\n",
        "ax.set_title('Percentage of Votes received by leading candidates in each election')\n",
        "plt.show()\n"
      ],
      "metadata": {
        "colab": {
          "base_uri": "https://localhost:8080/",
          "height": 350
        },
        "id": "AQ4766YD77N-",
        "outputId": "d153a17d-c68a-4a7d-d220-cd966357b408"
      },
      "execution_count": 22,
      "outputs": [
        {
          "output_type": "display_data",
          "data": {
            "text/plain": [
              "<Figure size 720x360 with 1 Axes>"
            ],
            "image/png": "[encoded data removed]"
          },
          "metadata": {
            "needs_background": "light"
          }
        }
      ]
    },
    {
      "cell_type": "markdown",
      "source": [
        "From the plot, we can see that the percentage of votes received by the leading candidates in each election has been fluctuating over the years. The 1993 election had no leading candidate, and the 2003 election had the highest percentage of votes received by the leading candidate. The 2019 election had the lowest percentage of votes received by the leading candidate.\n",
        "\n",
        "##Voter Turnout Trend:\n",
        "\n",
        "By analyzing the voter turnout trend from 1979 to 2019, we can gain insights into the trend of voter participation in Nigeria. We can do this by visualizing the data with a line plot."
      ],
      "metadata": {
        "id": "98BtR-KC8r8d"
      }
    },
    {
      "cell_type": "code",
      "source": [
        "# Plotting voter turnout trend\n",
        "fig, ax = plt.subplots(figsize=(10, 5))\n",
        "ax.plot(df['Year'], df['Voter Turnout'], color='red')\n",
        "ax.set_xlabel('Year')\n",
        "ax.set_ylabel('Voter Turnout (%)')\n",
        "ax.set_title('Voter Turnout Trend in Nigeria')\n",
        "plt.show()\n"
      ],
      "metadata": {
        "colab": {
          "base_uri": "https://localhost:8080/",
          "height": 350
        },
        "id": "zIgFFNlA8vm9",
        "outputId": "91583d9c-bbbc-4ac5-84c7-cada0c056e1a"
      },
      "execution_count": 21,
      "outputs": [
        {
          "output_type": "display_data",
          "data": {
            "text/plain": [
              "<Figure size 720x360 with 1 Axes>"
            ],
            "image/png": "[encoded data removed]"
          },
          "metadata": {
            "needs_background": "light"
          }
        }
      ]
    },
    {
      "cell_type": "markdown",
      "source": [
        "From the plot, we can observe that the trend of voter turnout in Nigeria has been generally low. However, there have been slight improvements in voter turnout in some elections. For instance, there was an increase in voter turnout in the 2011 elections compared to the previous elections, and a further increase in the 2015 elections. However, the 2019 elections recorded the lowest voter turnout in the last 8 elections, which is a significant cause for concern.\n",
        "\n",
        "The sharp drop in voter turnout in the 2019 elections may be attributed to various factors, including voter apathy, insecurity, lack of trust in the electoral process, and logistical issues that disenfranchised some voters."
      ],
      "metadata": {
        "id": "fC2ygPCU_qbv"
      }
    },
    {
      "cell_type": "markdown",
      "source": [
        "##Invalid Votes Trend\n",
        "\n",
        "Another important trend to consider is the trend in the number of invalid votes in each election. Invalid votes can occur due to various reasons, such as over-voting, under-voting, or voting for multiple candidates. It is important to understand the trend of invalid votes in order to take corrective measures to reduce them in future elections.\n",
        "\n",
        "Let's plot a graph of the trend of invalid votes over the years:"
      ],
      "metadata": {
        "id": "PHbyV60Y9HDE"
      }
    },
    {
      "cell_type": "code",
      "source": [
        "# extract the required data from the dataframe\n",
        "year = list(df['Year'])\n",
        "invalid_votes = list(df['Invalid votes'])\n",
        "\n",
        "# plot the data\n",
        "plt.plot(year, invalid_votes, '-o')\n",
        "plt.title('Trend of Invalid Votes in Nigerian Elections (1979-2019)')\n",
        "plt.xlabel('Year')\n",
        "plt.ylabel('Number of Invalid Votes')\n",
        "plt.show()\n",
        "# The output graph shows the trend of invalid votes in Nigerian elections over the years:"
      ],
      "metadata": {
        "colab": {
          "base_uri": "https://localhost:8080/",
          "height": 295
        },
        "id": "qkmuwZSj9Jjb",
        "outputId": "5c2ccdaa-3514-4488-d9c3-f6645fe23a28"
      },
      "execution_count": 17,
      "outputs": [
        {
          "output_type": "display_data",
          "data": {
            "text/plain": [
              "<Figure size 432x288 with 1 Axes>"
            ],
            "image/png": "[encoded data removed]"
          },
          "metadata": {
            "needs_background": "light"
          }
        }
      ]
    },
    {
      "cell_type": "markdown",
      "source": [
        "From the graph, we can see that the number of invalid votes has generally been low, except for the 2003 election which had a relatively high number of invalid votes at 6%. The 2019 election also had a higher number of invalid votes compared to the previous three elections.\n",
        "\n",
        "##Compulsory Voting\n",
        "\n",
        "The dataset also includes a column for \"Compulsory voting\", indicating whether voting is compulsory or not in each election. However, we can see that all the elections in the dataset have \"No\" in this column. This means that voting is not compulsory in Nigeria."
      ],
      "metadata": {
        "id": "XMB_LGSr-Tpr"
      }
    },
    {
      "cell_type": "markdown",
      "source": [
        "##Conclusion\n",
        "\n",
        "In conclusion, the analysis of the voter turnout data from previous elections in Nigeria has revealed insights into the factors that influence voter participation, such as age, education, and location. We have also seen that the trend of voter turnout in Nigeria has been generally low, with slight improvements in some elections. However, the 2019 elections recorded the lowest voter turnout in the last 8 elections, which is a significant cause for concern, and there is a need for urgent measures to improve voter participation in the upcoming 2023 elections.\n",
        "\n",
        "The use of data analysis and visualization tools like Python has made it easier to gain insights from election data, which is useful in improving the electoral process and promoting democracy in Nigeria. It is hoped that this analysis will contribute to the discourse on improving voter participation in Nigeria and make a significant impact on the conduct of future elections in the country."
      ],
      "metadata": {
        "id": "ypJ3ymX--XAd"
      }
    }
  ]
}